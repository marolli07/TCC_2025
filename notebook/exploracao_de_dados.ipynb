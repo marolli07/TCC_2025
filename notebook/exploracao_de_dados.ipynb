{
 "cells": [
  {
   "cell_type": "code",
   "id": "initial_id",
   "metadata": {
    "collapsed": true,
    "ExecuteTime": {
     "end_time": "2025-07-16T03:40:47.984497Z",
     "start_time": "2025-07-16T03:40:47.977028Z"
    }
   },
   "source": [
    "import yfinance as yf\n",
    "import os"
   ],
   "outputs": [],
   "execution_count": 4
  },
  {
   "metadata": {
    "ExecuteTime": {
     "end_time": "2025-07-16T03:51:47.579226Z",
     "start_time": "2025-07-16T03:51:47.576551Z"
    }
   },
   "cell_type": "code",
   "source": [
    "LIST_TICKETS= [\"PETR4.SA\", \"VALE3.SA\", \"ITUB4.SA\"]\n",
    "BASE_OUTPUT_DIR = \"../data/01_raw\"\n",
    "os.makedirs(BASE_OUTPUT_DIR, exist_ok=True)"
   ],
   "id": "4f59972086322454",
   "outputs": [],
   "execution_count": 12
  },
  {
   "metadata": {
    "ExecuteTime": {
     "end_time": "2025-07-16T03:53:47.061648Z",
     "start_time": "2025-07-16T03:53:44.414550Z"
    }
   },
   "cell_type": "code",
   "source": [
    "for ticker in LIST_TICKETS:\n",
    "    print(f\" ->Baixando {ticker}...\")\n",
    "    try:\n",
    "        dados = yf.download(ticker, period=\"max\", progress=False, auto_adjust=True)\n",
    "\n",
    "        if not dados.empty:\n",
    "             caminho = os.path.join(BASE_OUTPUT_DIR, f\"{ticker}.csv\")\n",
    "             dados.to_csv(caminho)\n",
    "             print(f\" -> {ticker}.csv -> foi salvo com sucesso!\")\n",
    "\n",
    "        else:\n",
    "            print(f\"  AVISO! : Nenhum dado foi encontrado para {ticker}\")\n",
    "    except Exception as e:\n",
    "        print(f\" ERRO ao baixar {ticker}: {e}\")\n",
    "print(\"\\nProcesso de download concluido!!!\")"
   ],
   "id": "26ac2cad0ee60b9e",
   "outputs": [
    {
     "name": "stdout",
     "output_type": "stream",
     "text": [
      " ->Baixando PETR4.SA...\n",
      " -> PETR4.SA.csv -> foi salvo com sucesso!\n",
      " ->Baixando VALE3.SA...\n",
      " -> VALE3.SA.csv -> foi salvo com sucesso!\n",
      " ->Baixando ITUB4.SA...\n",
      " -> ITUB4.SA.csv -> foi salvo com sucesso!\n",
      "\n",
      "Processo de download concluido!\n"
     ]
    }
   ],
   "execution_count": 14
  }
 ],
 "metadata": {
  "kernelspec": {
   "display_name": "Python 3",
   "language": "python",
   "name": "python3"
  },
  "language_info": {
   "codemirror_mode": {
    "name": "ipython",
    "version": 2
   },
   "file_extension": ".py",
   "mimetype": "text/x-python",
   "name": "python",
   "nbconvert_exporter": "python",
   "pygments_lexer": "ipython2",
   "version": "2.7.6"
  }
 },
 "nbformat": 4,
 "nbformat_minor": 5
}
